{
 "cells": [
  {
   "cell_type": "markdown",
   "id": "c6bb290e",
   "metadata": {},
   "source": [
    "# **Import necessary libraries**"
   ]
  },
  {
   "cell_type": "code",
   "execution_count": 3,
   "id": "60c4262c",
   "metadata": {},
   "outputs": [],
   "source": [
    "import numpy as np\n",
    "import math\n",
    "from numpy import matrix\n",
    "from numpy import linalg\n",
    "from numpy.polynomial import polynomial as p\n",
    "import time\n",
    "from matplotlib import pyplot as plt\n",
    "import random"
   ]
  },
  {
   "cell_type": "markdown",
   "id": "38e22869",
   "metadata": {},
   "source": [
    "# **Useful function**"
   ]
  },
  {
   "cell_type": "code",
   "execution_count": 4,
   "id": "57d222b9",
   "metadata": {},
   "outputs": [],
   "source": [
    "def find_q(n):\n",
    "    result = 2*n + 1 #Initial value\n",
    "    \n",
    "    while True:\n",
    "        prime = 0\n",
    "        for i in range(2, result):\n",
    "            if result%i == 0:\n",
    "                prime = 1\n",
    "                break\n",
    "            else:\n",
    "                pass\n",
    "        \n",
    "        if prime == 1:\n",
    "            result += 2*n\n",
    "            continue\n",
    "        else:\n",
    "            break\n",
    "            \n",
    "    return result\n",
    "\n",
    "def find_psi(q, n):\n",
    "    generator = 0\n",
    "    test_value = 2\n",
    "    while generator == 0:\n",
    "        if (test_value**(2*n))%q != 1: #Does test_value is a 2n root of unity?\n",
    "            test_value += 1\n",
    "            continue\n",
    "        else:\n",
    "            pass #Yes, test_value is a 2n root of unity.\n",
    "            \n",
    "        test = 0 #Test for 2, 3, ..., 2n-1\n",
    "        for i in range(2, 2*n):\n",
    "            if (test_value**i)%q == 1:\n",
    "                test = 1 #test_value is not the 2n-primitive root of unity\n",
    "                continue\n",
    "            else:\n",
    "                pass\n",
    "            \n",
    "        if test == 1: #For doing next test\n",
    "            test_value += 1\n",
    "            continue\n",
    "        else:\n",
    "            pass\n",
    "        \n",
    "        generator = test_value\n",
    "            \n",
    "    return generator\n",
    "\n",
    "def modMatInv(A,p):       # Finds the inverse of matrix A mod p\n",
    "  n=len(A)\n",
    "  A=matrix(A)\n",
    "  adj=np.zeros(shape=(n,n))\n",
    "  for i in range(0,n):\n",
    "    for j in range(0,n):\n",
    "      adj[i][j]=((-1)**(i+j)*int(round(linalg.det(minor(A,j,i)))))%p\n",
    "  return (modInv(int(round(linalg.det(A))),p)*adj)%p\n",
    "\n",
    "def modInv(a,p):          # Finds the inverse of a mod p, if it exists\n",
    "  for i in range(1,p):\n",
    "    if (i*a)%p==1:\n",
    "      return i\n",
    "  raise ValueError(str(a)+\" has no inverse mod \"+str(p))\n",
    "\n",
    "def minor(A,i,j):    # Return matrix A with the ith row and jth column deleted\n",
    "  A=np.array(A)\n",
    "  minor=np.zeros(shape=(len(A)-1,len(A)-1))\n",
    "  p=0\n",
    "  for s in range(0,len(minor)):\n",
    "    if p==i:\n",
    "      p=p+1\n",
    "    q=0\n",
    "    for t in range(0,len(minor)):\n",
    "      if q==j:\n",
    "        q=q+1\n",
    "      minor[s][t]=A[p][q]\n",
    "      q=q+1\n",
    "    p=p+1\n",
    "  return minor\n",
    "\n",
    "def horner(poly, n, a): #Horner's method\n",
    "    #Input data: poly(list), n(integer), a(complex number)\n",
    "    #n is the length of poly, poly is a polynomial \n",
    "    #Evaluating polynomial poly(a)\n",
    "    result = poly[0]\n",
    "    for i in range(1, n):\n",
    "        result = result*a+poly[i]\n",
    "    return result\n",
    "\n",
    "def mmv(A, b): #Multiplication between matrix and vector\n",
    "    #Input data: A(list of lists), b(list)\n",
    "    #A is a nxn matrix and b is a nx1 vector\n",
    "    result = []\n",
    "    n = len(b)\n",
    "    for i in range(0, n):\n",
    "        element = 0\n",
    "        for j in range(0, n):\n",
    "            element += A[i][j]*b[j]\n",
    "        result.append(element)\n",
    "    return result\n",
    "\n",
    "def Bezout(a, b):\n",
    "    #Input data: a(ndarray), b(ndarray)\n",
    "    #a and b are polynomials\n",
    "    #Find Bezout coefficients mod x^N + 1\n",
    "    \n",
    "    #Initial settings\n",
    "    tmp = np.polydiv(a, b)\n",
    "    if (tmp[1] == np.array([0])).all():\n",
    "        return np.array([0])\n",
    "    else:\n",
    "        recur = [[a, np.array([0]), np.array([1]), np.array([0])],[b, tmp[0], np.array([0]), np.array([1])], [tmp[1], np.array([0]), np.array([0]), np.array([0])]]\n",
    "        \n",
    "        #Iterative part\n",
    "        while len(recur[2][0]) != 1 or recur[2][0][0] > 1.0e-10:\n",
    "            new_recur = [[np.array([0]), np.array([0]), np.array([0]), np.array([0])]]*3\n",
    "            new_recur[0] = recur[1]\n",
    "            new_recur[1] = recur[2]\n",
    "            tmp1 = np.polydiv(new_recur[0][0], new_recur[1][0])\n",
    "            new_recur[1][1] = tmp1[0]\n",
    "            new_recur[2][0] = tmp1[1]\n",
    "            new_recur[1][2] = np.polysub(recur[0][2], np.polymul(recur[1][1], recur[1][2]))\n",
    "            new_recur[1][3] = np.polysub(recur[0][3], np.polymul(recur[1][1], recur[1][3]))\n",
    "            \n",
    "            recur = new_recur\n",
    "        return np.polydiv(recur[1][2], recur[1][0])[0], np.polydiv(recur[1][3], recur[1][0])[0]\n",
    "    \n",
    "    \n",
    "    \n",
    "def Bezout_num(a, b):\n",
    "    #Input data: a(int), b(int)\n",
    "    #a and b are integers\n",
    "    #Find Bezout coefficients \n",
    "    \n",
    "    #Initial settings\n",
    "    if a%b == 0:\n",
    "        return 0\n",
    "    else:\n",
    "        recur = [[a, 0, 1, 0], [b, a//b, 0, 1], [a%b, 0, 0, 0]]\n",
    "        \n",
    "        #Iterative part\n",
    "        while recur[2][0] != 0:\n",
    "            new_recur = [[0, 0, 0, 0]]*3\n",
    "            new_recur[0] = recur[1]\n",
    "            new_recur[1] = recur[2]\n",
    "            a1 = new_recur[0][0]\n",
    "            b1 = new_recur[1][0]\n",
    "            new_recur[1][1] = a1//b1\n",
    "            new_recur[2][0] = a1%b1\n",
    "            new_recur[1][2] = recur[0][2] - recur[1][1]*recur[1][2]\n",
    "            new_recur[1][3] = recur[0][3] - recur[1][1]*recur[1][3]\n",
    "            \n",
    "            recur = new_recur\n",
    "            print(recur, sep='\\n')\n",
    "        return recur[1][2], recur[1][3]\n"
   ]
  },
  {
   "cell_type": "code",
   "execution_count": 30,
   "id": "a7796a11",
   "metadata": {},
   "outputs": [
    {
     "name": "stdout",
     "output_type": "stream",
     "text": [
      "[34.0, 45.4, 56.8, 68.2]\n",
      "[34.0, 45.4, 56.8, 68.2]\n"
     ]
    }
   ],
   "source": [
    "A = [[1, 2, 3, 4], [2, 3, 4, 5], [3, 4, 5, 6], [4, 5, 6, 7]]\n",
    "b = [1.2, 2.3, 3.4, 4.5]\n",
    "C1 = mmv(A, b)\n",
    "A = np.array(A)\n",
    "b = np.array(b)\n",
    "C2 = A.dot(b)\n",
    "print(C1, C2.tolist(), sep = '\\n')"
   ]
  },
  {
   "cell_type": "code",
   "execution_count": 27,
   "id": "fdecbd59",
   "metadata": {},
   "outputs": [
    {
     "name": "stdout",
     "output_type": "stream",
     "text": [
      "[[13, 18, 0, 1], [3, 4, 1, -18], [1, 0, 0, 0]]\n",
      "[[3, 4, 1, -18], [1, 3, -4, 73], [0, 0, 0, 0]]\n"
     ]
    },
    {
     "data": {
      "text/plain": [
       "(-4, 73)"
      ]
     },
     "execution_count": 27,
     "metadata": {},
     "output_type": "execute_result"
    }
   ],
   "source": [
    "Bezout_num(237, 13)"
   ]
  },
  {
   "cell_type": "code",
   "execution_count": 25,
   "id": "171bcbad",
   "metadata": {},
   "outputs": [
    {
     "name": "stdout",
     "output_type": "stream",
     "text": [
      "[[[1, 0, 4], array([ 1.,  0., -4.]), array([0]), array([1])], [array([17.]), array([0.05882353, 0.        , 0.23529412]), array([0., 0., 1.]), array([-1.,  0.,  4.])], [array([0.]), array([0]), array([0]), array([0])]]\n"
     ]
    },
    {
     "data": {
      "text/plain": [
       "array([ 0.,  0.,  0.,  0., 17.])"
      ]
     },
     "execution_count": 25,
     "metadata": {},
     "output_type": "execute_result"
    }
   ],
   "source": [
    "a = [1,0,0,0,1]\n",
    "b = [1,0,4]\n",
    "t, s = Bezout(a, b)\n",
    "np.polyadd(np.polymul(a, t), np.polymul(b, s))"
   ]
  },
  {
   "cell_type": "code",
   "execution_count": 35,
   "id": "cb155aa2",
   "metadata": {},
   "outputs": [
    {
     "name": "stdout",
     "output_type": "stream",
     "text": [
      "[[array([1.        , 3.6777232 , 5.37578412, 3.6777232 , 1.        ]), array([ 1.00000000e+00, -7.35544640e+00,  2.98253756e+01, -8.77059273e+01,\n",
      "        2.08035252e+02, -4.20295260e+02,  7.46342653e+02, -1.18716854e+03,\n",
      "        1.70994108e+03, -2.23995354e+03,  2.66201385e+03, -2.83421328e+03,\n",
      "        2.61408240e+03, -1.89350859e+03,  6.35396951e+02,  1.09706182e+03,\n",
      "       -3.12767422e+03,  5.17779859e+03, -6.90227104e+03,  7.94689416e+03,\n",
      "       -8.01784733e+03,  6.94912616e+03, -4.75271921e+03,  1.63835931e+03,\n",
      "        2.00480587e+03]), array([0]), array([1])], [array([ -5664.40748743, -12041.96651299,  -9015.15807921,  -2003.80586667]), array([-0.00017654, -0.00027396]), array([0., 0., 0., 0., 0., 0., 0., 0., 0., 0., 0., 0., 0., 0., 0., 0., 0.,\n",
      "       0., 0., 0., 0., 0., 0., 0., 1.]), array([-1.00000000e+00,  7.35544640e+00, -2.98253756e+01,  8.77059273e+01,\n",
      "       -2.08035252e+02,  4.20295260e+02, -7.46342653e+02,  1.18716854e+03,\n",
      "       -1.70994108e+03,  2.23995354e+03, -2.66201385e+03,  2.83421328e+03,\n",
      "       -2.61408240e+03,  1.89350859e+03, -6.35396951e+02, -1.09706182e+03,\n",
      "        3.12767422e+03, -5.17779859e+03,  6.90227104e+03, -7.94689416e+03,\n",
      "        8.01784733e+03, -6.94912616e+03,  4.75271921e+03, -1.63835931e+03,\n",
      "       -2.00480587e+03])], [array([0.48521868, 0.85417402, 0.45103676]), array([0]), array([0]), array([0])]]\n",
      "[[array([ -5664.40748743, -12041.96651299,  -9015.15807921,  -2003.80586667]), array([-0.00017654, -0.00027396]), array([0., 0., 0., 0., 0., 0., 0., 0., 0., 0., 0., 0., 0., 0., 0., 0., 0.,\n",
      "       0., 0., 0., 0., 0., 0., 0., 1.]), array([-1.00000000e+00,  7.35544640e+00, -2.98253756e+01,  8.77059273e+01,\n",
      "       -2.08035252e+02,  4.20295260e+02, -7.46342653e+02,  1.18716854e+03,\n",
      "       -1.70994108e+03,  2.23995354e+03, -2.66201385e+03,  2.83421328e+03,\n",
      "       -2.61408240e+03,  1.89350859e+03, -6.35396951e+02, -1.09706182e+03,\n",
      "        3.12767422e+03, -5.17779859e+03,  6.90227104e+03, -7.94689416e+03,\n",
      "        8.01784733e+03, -6.94912616e+03,  4.75271921e+03, -1.63835931e+03,\n",
      "       -2.00480587e+03])], [array([0.48521868, 0.85417402, 0.45103676]), array([-11673.92696288,  -4266.94496014]), array([0.00017654, 0.00027396]), array([-1.76540971e-04,  1.02457736e-03, -3.25030052e-03,  7.31272098e-03,\n",
      "       -1.26988039e-02,  1.72059349e-02, -1.66158445e-02,  5.11563561e-03,\n",
      "        2.33623827e-02, -7.30123850e-02,  1.43703816e-01, -2.28931331e-01,\n",
      "        3.14969253e-01, -3.81872936e-01,  4.06572573e-01, -3.67749895e-01,\n",
      "        2.51611267e-01, -5.72350473e-02, -1.99977586e-01,  4.87995783e-01,\n",
      "       -7.61654896e-01,  9.69766322e-01, -1.06473497e+00,  1.01281880e+00,\n",
      "       -8.02775771e-01,  4.50762797e-01])], [array([-105.07439455,  -79.25684671]), array([0]), array([0]), array([0])]]\n",
      "[[array([0.48521868, 0.85417402, 0.45103676]), array([-11673.92696288,  -4266.94496014]), array([0.00017654, 0.00027396]), array([-1.76540971e-04,  1.02457736e-03, -3.25030052e-03,  7.31272098e-03,\n",
      "       -1.26988039e-02,  1.72059349e-02, -1.66158445e-02,  5.11563561e-03,\n",
      "        2.33623827e-02, -7.30123850e-02,  1.43703816e-01, -2.28931331e-01,\n",
      "        3.14969253e-01, -3.81872936e-01,  4.06572573e-01, -3.67749895e-01,\n",
      "        2.51611267e-01, -5.72350473e-02, -1.99977586e-01,  4.87995783e-01,\n",
      "       -7.61654896e-01,  9.69766322e-01, -1.06473497e+00,  1.01281880e+00,\n",
      "       -8.02775771e-01,  4.50762797e-01])], [array([-105.07439455,  -79.25684671]), array([-0.00461786, -0.00464601]), array([0.        , 0.        , 0.        , 0.        , 0.        ,\n",
      "       0.        , 0.        , 0.        , 0.        , 0.        ,\n",
      "       0.        , 0.        , 0.        , 0.        , 0.        ,\n",
      "       0.        , 0.        , 0.        , 0.        , 0.        ,\n",
      "       0.        , 0.        , 2.06092641, 3.95148306, 2.16897349]), array([  -2.06092641,   11.20755065,  -34.57195571,   78.85476354,\n",
      "       -146.86730667,  234.38165695, -328.59062982,  409.11592217,\n",
      "       -451.78376836,  434.51329361, -343.8930486 ,  180.60218183,\n",
      "         38.07681215, -279.78701932,  502.78531434, -664.75403185,\n",
      "        732.72604548, -691.60815457,  548.93169593, -334.26481847,\n",
      "         93.01856251,  124.14753189, -273.85146622,  331.28104514,\n",
      "       -297.18442198,  198.41263458,  -81.4258202 ])], [array([0.08280833]), array([0]), array([0]), array([0])]]\n",
      "[[array([-105.07439455,  -79.25684671]), array([-0.00461786, -0.00464601]), array([0.        , 0.        , 0.        , 0.        , 0.        ,\n",
      "       0.        , 0.        , 0.        , 0.        , 0.        ,\n",
      "       0.        , 0.        , 0.        , 0.        , 0.        ,\n",
      "       0.        , 0.        , 0.        , 0.        , 0.        ,\n",
      "       0.        , 0.        , 2.06092641, 3.95148306, 2.16897349]), array([  -2.06092641,   11.20755065,  -34.57195571,   78.85476354,\n",
      "       -146.86730667,  234.38165695, -328.59062982,  409.11592217,\n",
      "       -451.78376836,  434.51329361, -343.8930486 ,  180.60218183,\n",
      "         38.07681215, -279.78701932,  502.78531434, -664.75403185,\n",
      "        732.72604548, -691.60815457,  548.93169593, -334.26481847,\n",
      "         93.01856251,  124.14753189, -273.85146622,  331.28104514,\n",
      "       -297.18442198,  198.41263458,  -81.4258202 ])], [array([0.08280833]), array([-1268.88672418,  -957.11196838]), array([0.00951707, 0.02782248, 0.0285512 , 0.01035104]), array([-0.00951707,  0.04217979, -0.1077545 ,  0.20454292, -0.3151024 ,\n",
      "        0.40730647, -0.44114336,  0.37980868, -0.20213103, -0.08735721,\n",
      "        0.45406782, -0.83674901,  1.15861742, -1.34404279,  1.33686626,\n",
      "       -1.11566534,  0.70174118, -0.15724297, -0.42672105,  0.9495217 ,\n",
      "       -1.32343008,  1.49345707, -1.44947103,  1.22725754, -0.89795418,\n",
      "        0.54833727, -0.2569608 ,  0.07245729])], [array([-1.42108547e-14]), array([0]), array([0]), array([0])]]\n"
     ]
    },
    {
     "data": {
      "text/plain": [
       "array([ 2.77555756e-17,  1.11022302e-16,  1.11022302e-15,  4.44089210e-15,\n",
       "        1.15463195e-14,  1.99840144e-14,  1.82076576e-14,  3.55271368e-15,\n",
       "       -2.13162821e-14, -9.17044218e-14, -3.95516953e-13, -8.59090576e-13,\n",
       "       -1.08579812e-12, -9.61897229e-13, -8.54427640e-13, -8.65085781e-13,\n",
       "       -6.88338275e-13, -3.98348021e-13, -2.74835710e-13,  2.49800181e-13,\n",
       "        8.34443625e-13,  3.78364007e-13,  5.77315973e-13,  1.82165394e-12,\n",
       "        1.89714910e-12,  1.40687462e-12,  1.45472523e-12,  1.00958131e-12,\n",
       "        3.64944186e-13,  1.35669254e-13,  4.03566069e-14,  1.00000000e+00])"
      ]
     },
     "execution_count": 35,
     "metadata": {},
     "output_type": "execute_result"
    }
   ],
   "source": [
    "f = np.array(tmp.f)\n",
    "g = np.array(tmp.g)\n",
    "t, s = Bezout(g, f)\n",
    "np.polyadd(np.polymul(f, s), np.polymul(g, t))"
   ]
  },
  {
   "cell_type": "code",
   "execution_count": 41,
   "id": "b5c1d6b2",
   "metadata": {},
   "outputs": [
    {
     "name": "stdout",
     "output_type": "stream",
     "text": [
      "(0.9999999999971313-1.258428375790118e-12j) (1.9999999999625349-1.1085552063596258e-12j) (1.7352091985500806e-13+8.834997521287948e-13j)\n"
     ]
    }
   ],
   "source": [
    "n = 64\n",
    "rm = range(n)\n",
    "gm, igm = generate_matrix(n)\n",
    "em = EV(rm)\n",
    "pt = encode(igm, em)\n",
    "extract = [1,2]\n",
    "tmp = ESB(n, extract)\n",
    "eval_pt = tmp.GLS(pt)\n",
    "result = tmp.SLS(eval_pt)\n",
    "pt_prime = tmp.RFR(result)\n",
    "em2 = decode(gm, pt_prime)\n",
    "print(em2[n+1], em2[n+2], em2[n+3])"
   ]
  },
  {
   "cell_type": "code",
   "execution_count": 122,
   "id": "4e7e4a59",
   "metadata": {},
   "outputs": [
    {
     "data": {
      "text/plain": [
       "25"
      ]
     },
     "execution_count": 122,
     "metadata": {},
     "output_type": "execute_result"
    }
   ],
   "source": [
    "horner([1,2,3,3], 4, 2)"
   ]
  },
  {
   "cell_type": "markdown",
   "id": "5bf3e75d",
   "metadata": {},
   "source": [
    "# **Encoding & Decoding**"
   ]
  },
  {
   "cell_type": "code",
   "execution_count": 5,
   "id": "e7aa277d",
   "metadata": {},
   "outputs": [],
   "source": [
    "def EV(rm): #Extending vector\n",
    "    n = len(rm)\n",
    "    extend = np.array([0]*n)\n",
    "    for i in range(n):\n",
    "        extend[n-i-1] = np.conjugate(rm[i])\n",
    "    m = np.concatenate((extend, rm), axis = 0)\n",
    "    return m\n",
    "\n",
    "def generate_matrix(n): #Complex version\n",
    "    #Input data: n(integer)\n",
    "    #n is the length of raw message\n",
    "    psi = np.exp(-1j*np.pi/(2*n))\n",
    "    gm = [] #generator_matrix\n",
    "    for i in range(2*n):\n",
    "        generator = psi**(2*i+1)\n",
    "        row = []\n",
    "        for j in range(2*n):\n",
    "            row.append(generator**(2*n-j-1))\n",
    "        gm.append(row)\n",
    "    gm = np.array(gm)\n",
    "    igm = np.linalg.inv(gm) #inverse_generate_matrix\n",
    "\n",
    "    return gm, igm\n",
    "\n",
    "def generate_matrix2(n): #Integer version\n",
    "    q = find_q(n)\n",
    "    psi = find_psi(q, n)\n",
    "    gm = [] #generator_matrix\n",
    "    for i in range(n):\n",
    "        generator = (psi**(2*i+1))%q\n",
    "        row = []\n",
    "        for j in range(n):\n",
    "            row.append((generator**(n-j-1))%q)\n",
    "        gm.append(row)\n",
    "    gm = np.array(gm)\n",
    "    igm = modMatInv(gm, q) #inverse_generate_matrix\n",
    "\n",
    "    return gm, igm\n",
    "\n",
    "def encode(igm, m):\n",
    "    pt = igm.dot(m)\n",
    "    return pt\n",
    "\n",
    "def decode(gm, pt):\n",
    "    m = gm.dot(pt)\n",
    "    return m"
   ]
  },
  {
   "cell_type": "code",
   "execution_count": 34,
   "id": "12c7a02b",
   "metadata": {},
   "outputs": [
    {
     "data": {
      "text/plain": [
       "array([ 1.20000000e+01+4.83264495e-15j,  6.00000000e+00+4.94687430e-15j,\n",
       "        2.00000000e+00+3.11179926e-15j,  8.88178420e-16+4.11420703e-15j,\n",
       "       -3.55271368e-15+6.38695718e-15j,  2.00000000e+00+1.61620523e-15j,\n",
       "        6.00000000e+00+2.25219396e-16j,  1.20000000e+01+1.33290581e-14j])"
      ]
     },
     "execution_count": 34,
     "metadata": {},
     "output_type": "execute_result"
    }
   ],
   "source": [
    "a = [0,1,2,3]\n",
    "b = [1,2,3,4]\n",
    "n = 4\n",
    "gm, igm = generate_matrix(n)\n",
    "a1 = EV(a)\n",
    "b1 = EV(b)\n",
    "a2 = encode(igm, a1)\n",
    "b2 = encode(igm, b1)\n",
    "c2 = naive_n(a2, b2, 2*n)\n",
    "c3 = decode(gm, c2)\n",
    "c3"
   ]
  },
  {
   "cell_type": "code",
   "execution_count": 24,
   "id": "5db545dc",
   "metadata": {},
   "outputs": [
    {
     "data": {
      "text/plain": [
       "array([[1., 0., 0., 0., 0., 0., 0., 0.],\n",
       "       [0., 1., 0., 0., 0., 0., 0., 0.],\n",
       "       [0., 0., 1., 0., 0., 0., 0., 0.],\n",
       "       [0., 0., 0., 1., 0., 0., 0., 0.],\n",
       "       [0., 0., 0., 0., 1., 0., 0., 0.],\n",
       "       [0., 0., 0., 0., 0., 1., 0., 0.],\n",
       "       [0., 0., 0., 0., 0., 0., 1., 0.],\n",
       "       [0., 0., 0., 0., 0., 0., 0., 1.]])"
      ]
     },
     "execution_count": 24,
     "metadata": {},
     "output_type": "execute_result"
    }
   ],
   "source": [
    "n = 8\n",
    "q = find_q(n)\n",
    "gm, igm = generate_matrix2(n)\n",
    "gm.dot(igm) % q"
   ]
  },
  {
   "cell_type": "code",
   "execution_count": 18,
   "id": "46b6f5af",
   "metadata": {},
   "outputs": [
    {
     "data": {
      "text/plain": [
       "(1.0000000000000009+0j)"
      ]
     },
     "execution_count": 18,
     "metadata": {},
     "output_type": "execute_result"
    }
   ],
   "source": [
    "psi = np.exp(-1j*2*np.pi/n)\n",
    "psi**n"
   ]
  },
  {
   "cell_type": "markdown",
   "id": "e2781d84",
   "metadata": {},
   "source": [
    "# **Polynomial multiplication(Naive)**"
   ]
  },
  {
   "cell_type": "code",
   "execution_count": 6,
   "id": "ce3d975d",
   "metadata": {},
   "outputs": [],
   "source": [
    "def naive_n(f, g, n):\n",
    "    n1 = len(f)\n",
    "    n2 = len(g)\n",
    "    result = [0]*n\n",
    "    compare = n1+n2-2-n\n",
    "    for i in range(0, n1):\n",
    "        for j in range(0, n2):\n",
    "            if compare >= i+j:\n",
    "                result[2*n-n1-n2+i+j+1] -= f[i]*g[j]\n",
    "            else:\n",
    "                result[n-n1-n2+i+j+1] += f[i]*g[j]\n",
    "    return result\n",
    "\n",
    "def naive(f, g):\n",
    "    n = len(f)\n",
    "    result = np.zeros(2*n-1)\n",
    "    for i in range(0, n):\n",
    "        for j in range(0, n):\n",
    "            result[i+j] += f[i]*g[j]\n",
    "    return result\n",
    "\n",
    "def decode_negative(f):\n",
    "    l = len(f)\n",
    "    n = l//2 + 1#n is degree\n",
    "    result = np.zeros(n)\n",
    "    for i in range(1, n):\n",
    "        result[i] = (f[n-1+i] - f[i-1])\n",
    "    result[0] = f[n-1]\n",
    "    return result"
   ]
  },
  {
   "cell_type": "code",
   "execution_count": 33,
   "id": "1027c3fe",
   "metadata": {},
   "outputs": [
    {
     "data": {
      "text/plain": [
       "[7, 16, 17, 10]"
      ]
     },
     "execution_count": 33,
     "metadata": {},
     "output_type": "execute_result"
    }
   ],
   "source": [
    "f = [1,2,3]\n",
    "g = [2,3,4]\n",
    "naive_n(f, g, 4)"
   ]
  },
  {
   "cell_type": "code",
   "execution_count": 81,
   "id": "5beed81b",
   "metadata": {},
   "outputs": [
    {
     "data": {
      "text/plain": [
       "array([10.,  8.,  6.,  4.,  4.,  6.,  8., 10.])"
      ]
     },
     "execution_count": 81,
     "metadata": {},
     "output_type": "execute_result"
    }
   ],
   "source": []
  },
  {
   "cell_type": "code",
   "execution_count": 85,
   "id": "3e79d3d0",
   "metadata": {},
   "outputs": [
    {
     "data": {
      "text/plain": [
       "array([0., 0., 0., 4., 4., 0., 0., 0.])"
      ]
     },
     "execution_count": 85,
     "metadata": {},
     "output_type": "execute_result"
    }
   ],
   "source": [
    "n = 8\n",
    "q = find_q(n)\n",
    "gm, igm = generate_matrix2(n)\n",
    "rm1 = np.array([1,0,0,0])\n",
    "rm2 = np.array([4,5,6,7])\n",
    "m1 = EV(rm1)\n",
    "pt1 = encode(igm, m1, q)\n",
    "m2 = EV(rm2)\n",
    "pt2 = encode(igm, m2, q)\n",
    "pt3 = naive(pt1, pt2)\n",
    "pt3 = decode_negative(pt3, q)\n",
    "m3 = decode(gm, pt3, q)\n",
    "m3"
   ]
  },
  {
   "cell_type": "markdown",
   "id": "7d3fec4d",
   "metadata": {},
   "source": [
    "# **Polynomial multiplication(FTT)**"
   ]
  },
  {
   "cell_type": "code",
   "execution_count": 12,
   "id": "d23f69bb",
   "metadata": {},
   "outputs": [],
   "source": [
    "def fft(f, omega):\n",
    "    #Input data: f(ndarray), omega(complex number)\n",
    "    #f is a polynomial, omega is the n-th primitive root\n",
    "    n = len(f)\n",
    "    if n == 1:\n",
    "        return f\n",
    "    else:\n",
    "        f_even = fft(f[0::2], omega ** 2)\n",
    "        f_odd = fft(f[1::2], omega ** 2)\n",
    "        g = np.zeros(n, dtype=np.complex_)\n",
    "        for i in range(n//2):\n",
    "            g[i] = (f_even[i] + omega ** i * f_odd[i]) \n",
    "            g[i + n//2] = (f_even[i] - omega ** i * f_odd[i])\n",
    "        return g\n",
    "        \n",
    "def ifft(g, omega_inv):\n",
    "    #Input data: g(ndarray), omega_inv(complex number)\n",
    "    n = len(g)\n",
    "    if n == 1:\n",
    "        return g\n",
    "    else:\n",
    "        g_even = ifft(g[0::2], omega_inv ** 2)\n",
    "        g_odd = ifft(g[1::2], omega_inv ** 2)\n",
    "        f = np.zeros(n, dtype=np.complex_)\n",
    "        for i in range(n//2):\n",
    "            f[i] = (g_even[i] + omega_inv ** i * g_odd[i]) / 2\n",
    "            f[i + n//2] = (g_even[i] - omega_inv ** i * g_odd[i]) / 2\n",
    "        return f\n",
    "    \n",
    "def CTfft(a, psi_vector):\n",
    "    #Input data: a(list), psi_vector(list)\n",
    "    #a is a polynomial and psi_vector is a list of computation of psi\n",
    "    n = len(a)\n",
    "    t = n//2 #t is a power of two\n",
    "    m = 1\n",
    "    while m < n:\n",
    "        k = 0\n",
    "        for i in range(0, m):\n",
    "            s = psi_vector[m+i]\n",
    "            for j in range(k, k+t):\n",
    "                u = a[j]\n",
    "                v = a[j+t]*s\n",
    "                a[j] = u+v\n",
    "                a[j+t] = u-v\n",
    "            k += 2*t\n",
    "        t = t//2 #t is a power of two\n",
    "        m = 2*m\n",
    "    return a\n",
    "\n",
    "def GSifft(a, inverse_vector):\n",
    "    #Input data: a(list), inverse_vector(list)\n",
    "    #a is a fourier transform of a and inverse_vector is a list of cmputation of psi_inverse\n",
    "    n = len(a)\n",
    "    t = 1\n",
    "    m = n//2 #m is a power of two\n",
    "    while m > 0:\n",
    "        k = 0\n",
    "        for i in range(0, m):\n",
    "            s = inverse_vector[m+i]\n",
    "            for j in range(k, k+t):\n",
    "                u = a[j]\n",
    "                v = a[j+t]*s\n",
    "                a[j] = u+v\n",
    "                w = u-v\n",
    "                a[j+t] = w*s\n",
    "            k += 2*t\n",
    "        t = 2*t\n",
    "        m = m//2 #m is a power of two\n",
    "        \n",
    "    for i in range(0, n):\n",
    "        a[i] = a[i]/n\n",
    "    \n",
    "    return a\n",
    "\n",
    "def dot_product(a, b):\n",
    "    #Input data: a(list), b(list)\n",
    "    #a and b have same length\n",
    "    n = len(a)\n",
    "    result = []\n",
    "    for i in range(0, n):\n",
    "        result.append(a[i]*b[i])\n",
    "    return result\n",
    "\n",
    "def find_psi_vec(n):\n",
    "    #Input data: n(integer)\n",
    "    #n is the length of raw message\n",
    "    \n",
    "    psi = np.exp(-1j*np.pi/(2*n)) \n",
    "    psi_vector = []\n",
    "    inverse_vector = []\n",
    "    for i in range(0, 2*n):\n",
    "        psi_vector.append(psi**i)\n",
    "        inverse_vector.append(psi**(-i))\n",
    "    return psi_vector, inverse_vector\n",
    "\n",
    "    "
   ]
  },
  {
   "cell_type": "code",
   "execution_count": 15,
   "id": "60429e1c",
   "metadata": {},
   "outputs": [
    {
     "data": {
      "text/plain": [
       "array([-29.11846041 -9.26933918j,  23.78562875-45.2449225j ,\n",
       "        24.67086668 +8.2181208j ,  56.26155139-25.65471011j,\n",
       "        14.68496954 -7.14985288j,  36.81245683-23.91184578j,\n",
       "         2.52073373 -9.67772879j,   8.96155191 -4.18798602j,\n",
       "       -21.33043225 +6.22156164j,  22.42972504 +3.63341149j,\n",
       "        -6.91976021-12.7688627j , -13.27412577+17.75994334j,\n",
       "       -17.31037191 -4.63406248j,  -5.95946822+33.36604588j,\n",
       "        -1.36920791+16.111979j  , -61.10195947-30.91605927j])"
      ]
     },
     "execution_count": 15,
     "metadata": {},
     "output_type": "execute_result"
    }
   ],
   "source": [
    "n = 8\n",
    "gm, igm = generate_matrix(n)\n",
    "psi_vector, inverse_vector = find_psi_vec(n)\n",
    "a = [1,2,3,4,5,6,7,8]\n",
    "b = [2,3,4,5,6,7,8,9]\n",
    "a_ex = EV(a)\n",
    "b_ex = EV(b)\n",
    "pt_a = encode(igm, a_ex)\n",
    "pt_b = encode(igm, b_ex)\n",
    "ft_a = CTfft(pt_a, psi_vector)\n",
    "ft_b = CTfft(pt_b, psi_vector)\n",
    "ft_c = dot_product(ft_a, ft_b)\n",
    "pt_c = GSifft(ft_c, inverse_vector)\n",
    "c_ex = decode(gm, pt_c)\n",
    "c_ex"
   ]
  },
  {
   "cell_type": "markdown",
   "id": "bbd9c211",
   "metadata": {},
   "source": [
    "# **Extracting small box**"
   ]
  },
  {
   "cell_type": "code",
   "execution_count": 17,
   "id": "8a2c1633",
   "metadata": {},
   "outputs": [],
   "source": [
    "class ESB: #Extracting small box\n",
    "    def __init__(self, n, extract):\n",
    "        #Input data: n(integer), extract(array)\n",
    "        #n is the length of raw message, extract is the position of 1\n",
    "        self.degree = 2*n\n",
    "        k = len(extract)\n",
    "        self.k = k\n",
    "        zeta = np.exp(-1j*np.pi/(2*n))\n",
    "        self.zeta = np.exp(-1j*np.pi/(2*n))\n",
    "        \n",
    "        #Generating f and g\n",
    "        root_f = []\n",
    "        for i in extract:\n",
    "            root_f.append(zeta**(2*n+2*i+1))\n",
    "            root_f.append(zeta**(2*n-2*i-1))\n",
    "        f = p.polyfromroots(root_f)\n",
    "        self.root_f = root_f\n",
    "        f = f.real\n",
    "        self.f = f.tolist()\n",
    "        \n",
    "        root_g = []\n",
    "        for i in range(0, n):\n",
    "            if i in extract:\n",
    "                pass\n",
    "            else:\n",
    "                root_g.append(zeta**(2*n+2*i+1))\n",
    "                root_g.append(zeta**(2*n-2*i-1))\n",
    "        g = p.polyfromroots(root_g)\n",
    "        self.root_g = root_g\n",
    "        g = g.real\n",
    "        self.g = g.tolist()\n",
    "        \n",
    "        #Find the multiplicative inverse of f and g, s and r\n",
    "        r, s = Bezout(g, f)\n",
    "        self.s = s.tolist()\n",
    "        self.r = r.tolist()\n",
    "        self.gr = np.polymul(g, r).tolist()\n",
    "        \n",
    "        #Generating matrix correponding to linear system (Invserse of vandermonde matrix_k)\n",
    "        matrix_k = []\n",
    "        for i in extract:\n",
    "            row1 = []\n",
    "            generator1 = zeta**(2*n+2*i+1) \n",
    "            for j in range(0, 2*k):\n",
    "                row1.append(generator1**(2*k-j-1))\n",
    "            matrix_k.append(row1)\n",
    "            \n",
    "            row2 = []\n",
    "            generator2 = zeta**(2*n-2*i-1)\n",
    "            for j in range(0, 2*k):\n",
    "                row2.append(generator2**(2*k-j-1))\n",
    "            matrix_k.append(row2)\n",
    "        matrix_k = np.array(matrix_k)\n",
    "        matrix_k_inverse = np.linalg.inv(matrix_k)\n",
    "        self.matrix = matrix_k_inverse.tolist()\n",
    "\n",
    "    def GLS(self, a): #Generating linear system\n",
    "        eval_a = []\n",
    "        n = self.degree\n",
    "        for i in range(0, self.k):\n",
    "            value = horner(a, n, self.root_f[2*i])\n",
    "            eval_a.append(value)\n",
    "            eval_a.append(np.conj(value))\n",
    "        return eval_a\n",
    "        \n",
    "    def SLS(self, eval_a): #Solving linear system\n",
    "        result = mmv(self.matrix, eval_a)\n",
    "        return result\n",
    "        \n",
    "    def RFR(self, result): #Recovering final result\n",
    "        a_prime = naive_n(result, self.gr, self.degree)\n",
    "        return a_prime\n"
   ]
  },
  {
   "cell_type": "code",
   "execution_count": 85,
   "id": "22fdfd60",
   "metadata": {},
   "outputs": [
    {
     "data": {
      "text/plain": [
       "array([-1.42941214e-14+1.76938814e-14j, -9.93649607e-15-1.20531568e-14j,\n",
       "       -8.88178420e-16+7.99330772e-15j, -2.81025203e-15+8.82944444e-15j,\n",
       "        3.06005221e-15+1.12615268e-14j,  2.00000000e+00-2.67177221e-15j,\n",
       "        1.00000000e+00-3.51137837e-15j,  1.96370697e-15-1.37766849e-15j,\n",
       "        2.69922973e-15+1.49503358e-15j,  1.00000000e+00+3.44139332e-15j,\n",
       "        2.00000000e+00+1.95647003e-15j,  3.43475248e-15-1.39717609e-14j,\n",
       "       -1.42247325e-15-1.12343673e-14j,  5.55111512e-16-9.22902694e-15j,\n",
       "       -8.04911693e-15+1.09353987e-14j, -1.20806143e-14-1.82148946e-14j])"
      ]
     },
     "execution_count": 85,
     "metadata": {},
     "output_type": "execute_result"
    }
   ],
   "source": [
    "n = 8\n",
    "rm = range(n)\n",
    "gm, igm = generate_matrix(n)\n",
    "em = EV(rm)\n",
    "pt = encode(igm, em)\n",
    "extract = [1,2]\n",
    "tmp = ESB(n, extract)\n",
    "eval_pt = tmp.GLS(pt)\n",
    "result = tmp.SLS(eval_pt)\n",
    "pt_prime = tmp.RFR(result)\n",
    "em2 = decode(gm, pt_prime)\n",
    "em2"
   ]
  },
  {
   "cell_type": "code",
   "execution_count": 93,
   "id": "dffbb1a2",
   "metadata": {},
   "outputs": [
    {
     "data": {
      "text/plain": [
       "array([0, 0, 0, 0, 1, 0, 1, 0, 0, 1, 0, 1, 0, 0, 0, 0])"
      ]
     },
     "execution_count": 93,
     "metadata": {},
     "output_type": "execute_result"
    }
   ],
   "source": [
    "rm2 = [0,1,0,1,0,0,0,0]\n",
    "em2 = EV(rm2)\n",
    "pt2 = encode(igm, em2)\n",
    "c = naive_n(pt, pt2, 2*n)\n",
    "em2"
   ]
  },
  {
   "cell_type": "code",
   "execution_count": 105,
   "id": "bb7f86df",
   "metadata": {},
   "outputs": [
    {
     "data": {
      "text/plain": [
       "27"
      ]
     },
     "execution_count": 105,
     "metadata": {},
     "output_type": "execute_result"
    }
   ],
   "source": [
    "horner([1,2,3], 3, 4)"
   ]
  },
  {
   "cell_type": "code",
   "execution_count": 29,
   "id": "d3300d72",
   "metadata": {},
   "outputs": [
    {
     "data": {
      "text/plain": [
       "[[(0.12500000000000028-3.557830628326035e-16j),\n",
       "  (0.12500000000000036+3.608224830031759e-16j),\n",
       "  (0.12500000000000006-3.608224830031759e-16j),\n",
       "  (0.12500000000000017+3.608224830031759e-16j),\n",
       "  (0.1249999999999999-2.7755575615628914e-16j),\n",
       "  (0.12499999999999985+2.7755575615628914e-16j),\n",
       "  (0.12499999999999979-2.498001805406602e-16j),\n",
       "  (0.12499999999999964+2.5119177114358717e-16j)],\n",
       " [(0.11548494156391086+0.04783542904563596j),\n",
       "  (0.115484941563911-0.0478354290456358j),\n",
       "  (0.04783542904563619+0.11548494156391079j),\n",
       "  (0.047835429045636355-0.11548494156391065j),\n",
       "  (-0.047835429045636355+0.11548494156391079j),\n",
       "  (-0.047835429045636195-0.11548494156391087j),\n",
       "  (-0.11548494156391098+0.04783542904563634j),\n",
       "  (-0.11548494156391083-0.04783542904563649j)],\n",
       " [(0.08838834764831849+0.08838834764831821j),\n",
       "  (0.0883883476483188-0.08838834764831796j),\n",
       "  (-0.08838834764831847+0.08838834764831834j),\n",
       "  (-0.08838834764831817-0.08838834764831864j),\n",
       "  (-0.08838834764831849-0.0883883476483186j),\n",
       "  (-0.08838834764831872+0.08838834764831834j),\n",
       "  (0.08838834764831843-0.08838834764831857j),\n",
       "  (0.08838834764831818+0.0883883476483189j)],\n",
       " [(0.047835429045636126+0.11548494156391066j),\n",
       "  (0.04783542904563675-0.11548494156391045j),\n",
       "  (-0.11548494156391094-0.047835429045636334j),\n",
       "  (-0.11548494156391118+0.0478354290456357j),\n",
       "  (0.11548494156391083-0.047835429045636126j),\n",
       "  (0.11548494156391063+0.04783542904563674j),\n",
       "  (-0.047835429045636445+0.11548494156391093j),\n",
       "  (-0.047835429045635855-0.11548494156391112j)],\n",
       " [(-1.0259525108588257e-17+0.12499999999999983j),\n",
       "  (8.151712179618266e-16-0.12499999999999983j),\n",
       "  (1.6120393309998508e-17-0.12500000000000014j),\n",
       "  (-7.457822789227554e-16+0.12500000000000008j),\n",
       "  (-1.7679297880236226e-16+0.12499999999999997j),\n",
       "  (7.339836678767596e-16-0.12499999999999997j),\n",
       "  (1.4903740318673423e-16-0.12500000000000017j),\n",
       "  (-6.90271127691498e-16+0.1250000000000002j)],\n",
       " [(-0.04783542904563638+0.1154849415639107j),\n",
       "  (-0.0478354290456354-0.11548494156391109j),\n",
       "  (0.11548494156391083-0.047835429045636244j),\n",
       "  (0.11548494156391045+0.04783542904563721j),\n",
       "  (-0.11548494156391095-0.047835429045636424j),\n",
       "  (-0.11548494156391131+0.0478354290456354j),\n",
       "  (0.04783542904563593+0.11548494156391108j),\n",
       "  (0.04783542904563686-0.11548494156391065j)],\n",
       " [(-0.08838834764831863+0.08838834764831821j),\n",
       "  (-0.0883883476483177-0.08838834764831914j),\n",
       "  (0.08838834764831834+0.08838834764831839j),\n",
       "  (0.08838834764831927-0.08838834764831757j),\n",
       "  (0.08838834764831856-0.08838834764831842j),\n",
       "  (0.08838834764831768+0.08838834764831932j),\n",
       "  (-0.08838834764831832-0.08838834764831877j),\n",
       "  (-0.08838834764831911+0.08838834764831789j)],\n",
       " [(-0.1154849415639114+0.04783542904563598j),\n",
       "  (-0.11548494156391079-0.04783542904563732j),\n",
       "  (-0.047835429045636695+0.11548494156391075j),\n",
       "  (-0.04783542904563536-0.11548494156391137j),\n",
       "  (0.047835429045635695+0.11548494156391101j),\n",
       "  (0.0478354290456371-0.11548494156391043j),\n",
       "  (0.11548494156391041+0.047835429045636695j),\n",
       "  (0.11548494156391104-0.04783542904563525j)]]"
      ]
     },
     "execution_count": 29,
     "metadata": {},
     "output_type": "execute_result"
    }
   ],
   "source": [
    "n = 8\n",
    "zeta = np.exp(-1j*np.pi/n)\n",
    "k=4\n",
    "extract = range(4)\n",
    "matrix_k = []\n",
    "for i in extract:\n",
    "    row1 = []\n",
    "    generator1 = zeta**(2*i+1) \n",
    "    for j in range(0, 2*k):\n",
    "        row1.append(generator1**j)\n",
    "    matrix_k.append(row1)\n",
    "            \n",
    "    row2 = []\n",
    "    generator2 = zeta**(2*(2*n-i-1)+1)\n",
    "    for j in range(0, 2*k):\n",
    "        row2.append(generator2**j)\n",
    "    matrix_k.append(row2)\n",
    "matrix_k = np.array(matrix_k)\n",
    "matrix_k_inverse = np.linalg.inv(matrix_k)\n",
    "matrix_k_inverse.tolist()"
   ]
  },
  {
   "cell_type": "markdown",
   "id": "394690f4",
   "metadata": {},
   "source": [
    "# **Experiments**"
   ]
  },
  {
   "cell_type": "code",
   "execution_count": 9,
   "id": "2a0f47b5",
   "metadata": {},
   "outputs": [
    {
     "name": "stdout",
     "output_type": "stream",
     "text": [
      "length  4  starts\n",
      "length  8  starts\n",
      "length  16  starts\n",
      "length  32  starts\n",
      "length  64  starts\n",
      "length  128  starts\n",
      "length  256  starts\n",
      "length  512  starts\n",
      "length  1024  starts\n",
      "length  2048  starts\n",
      "length  4096  starts\n",
      "length  8192  starts\n",
      "end\n"
     ]
    }
   ],
   "source": [
    "length = [] #length of raw message\n",
    "time_proposal1 = []\n",
    "time_proposal2 = []\n",
    "time_proposal3 = []\n",
    "time_classic = []\n",
    "for i in range(2, 14):\n",
    "    l = 2**i\n",
    "    print(\"length \", l, \" starts\")\n",
    "    length.append(l)\n",
    "    rm = range(l)\n",
    "    gm, igm = generate_matrix(l)\n",
    "    em = EV(rm)\n",
    "    pt = encode(igm, em)\n",
    "    extract1 = [1]\n",
    "    rm_extract = [0]*l\n",
    "    for i in extract1:\n",
    "        rm_extract[i] = 1\n",
    "    em_extract = EV(rm_extract)\n",
    "    pt_extract = encode(igm, em_extract)\n",
    "    omega = np.exp(1j*np.pi/l)\n",
    "    omega_inv = np.exp(-1j*np.pi/l)\n",
    "    \n",
    "    #proposal (k=1)\n",
    "    tmp1 = ESB(l, extract1)\n",
    "    \n",
    "    start_proposal1 = time.time()\n",
    "    \n",
    "    eval_pt1 = tmp1.GLS(pt)\n",
    "    result1 = tmp1.SLS(eval_pt1)\n",
    "    pt_prime1 = tmp1.RFR(result1)\n",
    "    \n",
    "    end_proposal1 = time.time()\n",
    "\n",
    "    time_proposal1.append(end_proposal1-start_proposal1)\n",
    "    \n",
    "    #proposal (k=2)\n",
    "    extract2 = [1,2]\n",
    "    tmp2 = ESB(l, extract2)\n",
    "    \n",
    "    start_proposal2 = time.time()\n",
    "    \n",
    "    eval_pt2 = tmp2.GLS(pt)\n",
    "    result2 = tmp2.SLS(eval_pt2)\n",
    "    pt_prime2 = tmp2.RFR(result2)\n",
    "    \n",
    "    end_proposal2 = time.time()\n",
    "\n",
    "    time_proposal2.append(end_proposal2-start_proposal2)\n",
    "    \n",
    "    #proposal (k=3)\n",
    "    extract3 = [1,2,3]\n",
    "    tmp3 = ESB(l, extract3)\n",
    "    \n",
    "    start_proposal3 = time.time()\n",
    "    \n",
    "    eval_pt3 = tmp3.GLS(pt)\n",
    "    result3 = tmp3.SLS(eval_pt3)\n",
    "    pt_prime3 = tmp3.RFR(result3)\n",
    "    \n",
    "    end_proposal3 = time.time()\n",
    "\n",
    "    time_proposal3.append(end_proposal3-start_proposal3)\n",
    "    \n",
    "    #Classic\n",
    "    start_classic = time.time()\n",
    "    \n",
    "    pt_conv = fft(pt, omega)\n",
    "    pt_extract_conv = fft(pt_extract, omega)\n",
    "    result2_conv = [0]*(2*l)\n",
    "    for i in range(2*l):\n",
    "        result2_conv[i] = pt_conv[i]*pt_extract_conv[i]\n",
    "    result2 = ifft(result2_conv, omega_inv)\n",
    "    \n",
    "    end_classic = time.time()\n",
    "    \n",
    "    time_classic.append(end_classic - start_classic)\n",
    "    \n",
    "    \n",
    "print(\"end\")"
   ]
  },
  {
   "cell_type": "code",
   "execution_count": 10,
   "id": "31c5fe3a",
   "metadata": {},
   "outputs": [
    {
     "data": {
      "image/png": "[encoded data removed]",
      "text/plain": [
       "<Figure size 432x288 with 1 Axes>"
      ]
     },
     "metadata": {
      "needs_background": "light"
     },
     "output_type": "display_data"
    }
   ],
   "source": [
    "plt.plot(length, time_proposal1, 'b', label = 'k=1')\n",
    "plt.plot(length, time_proposal2, 'g', label = 'k=2')\n",
    "plt.plot(length, time_proposal3, 'c', label = 'k=3')\n",
    "plt.plot(length, time_classic, 'r', label = 'classic')\n",
    "plt.title(\"Z[x]/(x^n + 1)\")\n",
    "plt.xlabel(\"Length of raw message\")\n",
    "plt.ylabel(\"Time(s)\")\n",
    "plt.legend(loc = 'upper right')\n",
    "plt.show()"
   ]
  },
  {
   "cell_type": "code",
   "execution_count": null,
   "id": "a7af4bc6",
   "metadata": {},
   "outputs": [
    {
     "name": "stdout",
     "output_type": "stream",
     "text": [
      "length  4  starts\n",
      "length  8  starts\n",
      "length  16  starts\n",
      "length  32  starts\n",
      "length  64  starts\n",
      "length  128  starts\n",
      "length  256  starts\n",
      "length  512  starts\n",
      "length  1024  starts\n",
      "length  2048  starts\n",
      "length  4096  starts\n",
      "length  8192  starts\n",
      "length  16384  starts\n"
     ]
    }
   ],
   "source": [
    "length = [] #length of raw message\n",
    "time_GLS = []\n",
    "time_SLS = []\n",
    "time_RFR = []\n",
    "for i in range(2, 14):\n",
    "    l = 2**i\n",
    "    print(\"length \", l, \" starts\")\n",
    "    length.append(l)\n",
    "    rm = range(l)\n",
    "    gm, igm = generate_matrix(l)\n",
    "    em = EV(rm)\n",
    "    pt = encode(igm, em)\n",
    "    extract1 = [1]\n",
    "    rm_extract = [0]*l\n",
    "    for i in extract:\n",
    "        rm_extract[i] = 1\n",
    "    em_extract = EV(rm_extract)\n",
    "    pt_extract = encode(igm, em_extract)\n",
    "    omega = np.exp(1j*np.pi/n)\n",
    "    omega_inv = np.exp(-1j*np.pi/n)\n",
    "    \n",
    "    #proposal (k=1)\n",
    "    tmp1 = ESB(l, extract1)\n",
    "    \n",
    "    #GLS\n",
    "    start_GLS = time.time()\n",
    "    \n",
    "    eval_pt1 = tmp1.GLS(pt)\n",
    "    \n",
    "    end_GLS = time.time()\n",
    "    \n",
    "    time_GLS.append(end_GLS - start_GLS)\n",
    "    \n",
    "    #SLS\n",
    "    start_SLS = time.time()\n",
    "    \n",
    "    result1 = tmp1.SLS(eval_pt1)\n",
    "    \n",
    "    end_SLS = time.time()\n",
    "    \n",
    "    time_SLS.append(end_SLS-start_SLS)\n",
    "    \n",
    "    #RFR   \n",
    "    start_RFR = time.time()\n",
    "    \n",
    "    pt_prime1 = tmp1.RFR(result1)\n",
    "    \n",
    "    end_RFR = time.time()\n",
    "\n",
    "    time_RFR.append(end_RFR-start_RFR)\n",
    "    \n",
    "    \n",
    "print(\"end\")"
   ]
  },
  {
   "cell_type": "code",
   "execution_count": 125,
   "id": "a5df0c93",
   "metadata": {},
   "outputs": [
    {
     "data": {
      "image/png": "[encoded data removed]",
      "text/plain": [
       "<Figure size 432x288 with 1 Axes>"
      ]
     },
     "metadata": {
      "needs_background": "light"
     },
     "output_type": "display_data"
    }
   ],
   "source": [
    "plt.plot(length, time_GLS, 'b', label = 'GLS')\n",
    "plt.plot(length, time_SLS, 'g', label = 'SLS')\n",
    "plt.plot(length, time_RFR, 'c', label = 'RFR')\n",
    "plt.title(\"Z[x]/(x^n + 1)\")\n",
    "plt.xlabel(\"Length of raw message\")\n",
    "plt.ylabel(\"Time(s)\")\n",
    "plt.legend(loc = 'upper right')\n",
    "plt.show()"
   ]
  },
  {
   "cell_type": "code",
   "execution_count": 28,
   "id": "4b3660a9",
   "metadata": {},
   "outputs": [
    {
     "name": "stdout",
     "output_type": "stream",
     "text": [
      "length  16  starts\n",
      "length  32  starts\n",
      "length  64  starts\n",
      "length  128  starts\n",
      "length  256  starts\n",
      "length  512  starts\n",
      "length  1024  starts\n",
      "length  2048  starts\n",
      "length  4096  starts\n",
      "length  8192  starts\n",
      "length  16384  starts\n"
     ]
    },
    {
     "ename": "MemoryError",
     "evalue": "Unable to allocate 16.0 GiB for an array with shape (32768, 32768) and data type complex128",
     "output_type": "error",
     "traceback": [
      "\u001b[1;31m---------------------------------------------------------------------------\u001b[0m",
      "\u001b[1;31mMemoryError\u001b[0m                               Traceback (most recent call last)",
      "\u001b[1;32m<ipython-input-28-14aae1b54ebd>\u001b[0m in \u001b[0;36m<module>\u001b[1;34m\u001b[0m\n\u001b[0;32m     11\u001b[0m     \u001b[0mlength\u001b[0m\u001b[1;33m.\u001b[0m\u001b[0mappend\u001b[0m\u001b[1;33m(\u001b[0m\u001b[0ml\u001b[0m\u001b[1;33m)\u001b[0m\u001b[1;33m\u001b[0m\u001b[1;33m\u001b[0m\u001b[0m\n\u001b[0;32m     12\u001b[0m     \u001b[0mrm\u001b[0m \u001b[1;33m=\u001b[0m \u001b[0mrange\u001b[0m\u001b[1;33m(\u001b[0m\u001b[0ml\u001b[0m\u001b[1;33m)\u001b[0m\u001b[1;33m\u001b[0m\u001b[1;33m\u001b[0m\u001b[0m\n\u001b[1;32m---> 13\u001b[1;33m     \u001b[0mgm\u001b[0m\u001b[1;33m,\u001b[0m \u001b[0migm\u001b[0m \u001b[1;33m=\u001b[0m \u001b[0mgenerate_matrix\u001b[0m\u001b[1;33m(\u001b[0m\u001b[0ml\u001b[0m\u001b[1;33m)\u001b[0m\u001b[1;33m\u001b[0m\u001b[1;33m\u001b[0m\u001b[0m\n\u001b[0m\u001b[0;32m     14\u001b[0m     \u001b[0mem\u001b[0m \u001b[1;33m=\u001b[0m \u001b[0mEV\u001b[0m\u001b[1;33m(\u001b[0m\u001b[0mrm\u001b[0m\u001b[1;33m)\u001b[0m\u001b[1;33m\u001b[0m\u001b[1;33m\u001b[0m\u001b[0m\n\u001b[0;32m     15\u001b[0m     \u001b[0mpt\u001b[0m \u001b[1;33m=\u001b[0m \u001b[0mencode\u001b[0m\u001b[1;33m(\u001b[0m\u001b[0migm\u001b[0m\u001b[1;33m,\u001b[0m \u001b[0mem\u001b[0m\u001b[1;33m)\u001b[0m\u001b[1;33m\u001b[0m\u001b[1;33m\u001b[0m\u001b[0m\n",
      "\u001b[1;32m<ipython-input-5-3ee6ea53dd65>\u001b[0m in \u001b[0;36mgenerate_matrix\u001b[1;34m(n)\u001b[0m\n\u001b[0;32m     18\u001b[0m             \u001b[0mrow\u001b[0m\u001b[1;33m.\u001b[0m\u001b[0mappend\u001b[0m\u001b[1;33m(\u001b[0m\u001b[0mgenerator\u001b[0m\u001b[1;33m**\u001b[0m\u001b[1;33m(\u001b[0m\u001b[1;36m2\u001b[0m\u001b[1;33m*\u001b[0m\u001b[0mn\u001b[0m\u001b[1;33m-\u001b[0m\u001b[0mj\u001b[0m\u001b[1;33m-\u001b[0m\u001b[1;36m1\u001b[0m\u001b[1;33m)\u001b[0m\u001b[1;33m)\u001b[0m\u001b[1;33m\u001b[0m\u001b[1;33m\u001b[0m\u001b[0m\n\u001b[0;32m     19\u001b[0m         \u001b[0mgm\u001b[0m\u001b[1;33m.\u001b[0m\u001b[0mappend\u001b[0m\u001b[1;33m(\u001b[0m\u001b[0mrow\u001b[0m\u001b[1;33m)\u001b[0m\u001b[1;33m\u001b[0m\u001b[1;33m\u001b[0m\u001b[0m\n\u001b[1;32m---> 20\u001b[1;33m     \u001b[0mgm\u001b[0m \u001b[1;33m=\u001b[0m \u001b[0mnp\u001b[0m\u001b[1;33m.\u001b[0m\u001b[0marray\u001b[0m\u001b[1;33m(\u001b[0m\u001b[0mgm\u001b[0m\u001b[1;33m)\u001b[0m\u001b[1;33m\u001b[0m\u001b[1;33m\u001b[0m\u001b[0m\n\u001b[0m\u001b[0;32m     21\u001b[0m     \u001b[0migm\u001b[0m \u001b[1;33m=\u001b[0m \u001b[0mnp\u001b[0m\u001b[1;33m.\u001b[0m\u001b[0mlinalg\u001b[0m\u001b[1;33m.\u001b[0m\u001b[0minv\u001b[0m\u001b[1;33m(\u001b[0m\u001b[0mgm\u001b[0m\u001b[1;33m)\u001b[0m \u001b[1;31m#inverse_generate_matrix\u001b[0m\u001b[1;33m\u001b[0m\u001b[1;33m\u001b[0m\u001b[0m\n\u001b[0;32m     22\u001b[0m \u001b[1;33m\u001b[0m\u001b[0m\n",
      "\u001b[1;31mMemoryError\u001b[0m: Unable to allocate 16.0 GiB for an array with shape (32768, 32768) and data type complex128"
     ]
    }
   ],
   "source": [
    "length = [] #length of raw message\n",
    "time_proposal1 = []\n",
    "time_proposal2 = []\n",
    "time_proposal3 = []\n",
    "time_proposal4 = []\n",
    "time_proposal5 = []\n",
    "time_classic = []\n",
    "for i in range(4, 15):\n",
    "    l = 2**i\n",
    "    print(\"length \", l, \" starts\")\n",
    "    length.append(l)\n",
    "    rm = range(l)\n",
    "    gm, igm = generate_matrix(l)\n",
    "    em = EV(rm)\n",
    "    pt = encode(igm, em)\n",
    "    extract1 = [1]\n",
    "    rm_extract = [0]*l\n",
    "    for i in extract1:\n",
    "        rm_extract[i] = 1\n",
    "    em_extract = EV(rm_extract)\n",
    "    pt_extract = encode(igm, em_extract)\n",
    "    psi_vector, inverse_vector = find_psi_vec(l)\n",
    "    \n",
    "    #proposal (k=1)\n",
    "    tmp1 = ESB(l, extract1)\n",
    "    \n",
    "    start_proposal1 = time.time()\n",
    "    \n",
    "    eval_pt1 = tmp1.GLS(pt)\n",
    "    result1 = tmp1.SLS(eval_pt1)\n",
    "    pt_prime1 = tmp1.RFR(result1)\n",
    "    \n",
    "    end_proposal1 = time.time()\n",
    "\n",
    "    time_proposal1.append(end_proposal1-start_proposal1)\n",
    "    \n",
    "    #proposal (k=2)\n",
    "    extract2 = [1,2]\n",
    "    tmp2 = ESB(l, extract2)\n",
    "    \n",
    "    start_proposal2 = time.time()\n",
    "    \n",
    "    eval_pt2 = tmp2.GLS(pt)\n",
    "    result2 = tmp2.SLS(eval_pt2)\n",
    "    pt_prime2 = tmp2.RFR(result2)\n",
    "    \n",
    "    end_proposal2 = time.time()\n",
    "\n",
    "    time_proposal2.append(end_proposal2-start_proposal2)\n",
    "    \n",
    "    #proposal (k=3)\n",
    "    extract3 = [1,2,3]\n",
    "    tmp3 = ESB(l, extract3)\n",
    "    \n",
    "    start_proposal3 = time.time()\n",
    "    \n",
    "    eval_pt3 = tmp3.GLS(pt)\n",
    "    result3 = tmp3.SLS(eval_pt3)\n",
    "    pt_prime3 = tmp3.RFR(result3)\n",
    "    \n",
    "    end_proposal3 = time.time()\n",
    "\n",
    "    time_proposal3.append(end_proposal3-start_proposal3)\n",
    "    \n",
    "    #proposal (k=4)\n",
    "    extract4 = [1,2,3,4]\n",
    "    tmp4 = ESB(l, extract4)\n",
    "    \n",
    "    start_proposal4 = time.time()\n",
    "    \n",
    "    eval_pt4 = tmp4.GLS(pt)\n",
    "    result4 = tmp4.SLS(eval_pt4)\n",
    "    pt_prime4 = tmp4.RFR(result4)\n",
    "    \n",
    "    end_proposal4 = time.time()\n",
    "\n",
    "    time_proposal4.append(end_proposal4-start_proposal4)\n",
    "    \n",
    "    #proposal (k=5)\n",
    "    extract5 = [1,2,3,4,5]\n",
    "    tmp5 = ESB(l, extract5)\n",
    "    \n",
    "    start_proposal5 = time.time()\n",
    "    \n",
    "    eval_pt5 = tmp5.GLS(pt)\n",
    "    result5 = tmp5.SLS(eval_pt5)\n",
    "    pt_prime5 = tmp5.RFR(result5)\n",
    "    \n",
    "    end_proposal5 = time.time()\n",
    "\n",
    "    time_proposal5.append(end_proposal5-start_proposal5)\n",
    "    \n",
    "    #Classic\n",
    "    start_classic = time.time()\n",
    "    \n",
    "    pt_conv = CTfft(pt, psi_vector)\n",
    "    pt_extract_conv = CTfft(pt_extract, psi_vector)\n",
    "    result2_conv = [0]*(2*l)\n",
    "    for i in range(2*l):\n",
    "        result2_conv[i] = pt_conv[i]*pt_extract_conv[i]\n",
    "    result2 = GSifft(result2_conv, inverse_vector)\n",
    "    \n",
    "    end_classic = time.time()\n",
    "    \n",
    "    time_classic.append(end_classic - start_classic)\n",
    "    \n",
    "    \n",
    "print(\"end\")"
   ]
  },
  {
   "cell_type": "code",
   "execution_count": 26,
   "id": "aba133b0",
   "metadata": {},
   "outputs": [
    {
     "data": {
      "image/png": "[encoded data removed]",
      "text/plain": [
       "<Figure size 432x288 with 1 Axes>"
      ]
     },
     "metadata": {
      "needs_background": "light"
     },
     "output_type": "display_data"
    }
   ],
   "source": [
    "plt.plot(length, time_proposal1, 'b', label = 'k=1')\n",
    "plt.plot(length, time_proposal2, 'g', label = 'k=2')\n",
    "plt.plot(length, time_proposal3, 'c', label = 'k=3')\n",
    "plt.plot(length, time_proposal4, 'k', label = 'k=4')\n",
    "plt.plot(length, time_proposal5, 'y', label = 'k=5')\n",
    "plt.plot(length, time_classic, 'r', label = 'classic')\n",
    "plt.title(\"Z[x]/(x^n + 1)\")\n",
    "plt.xlabel(\"Length of raw message\")\n",
    "plt.ylabel(\"Time(s)\")\n",
    "plt.legend(loc = 'upper right')\n",
    "plt.show()"
   ]
  },
  {
   "cell_type": "code",
   "execution_count": 27,
   "id": "1cbb130f",
   "metadata": {},
   "outputs": [
    {
     "name": "stdout",
     "output_type": "stream",
     "text": [
      "[0.0, 0.0, 0.0004973411560058594, 0.0009965896606445312, 0.0009968280792236328, 0.0019927024841308594, 0.002993345260620117, 0.005980253219604492, 0.01561737060546875, 0.02887725830078125, 0.05726146697998047, 0.1088860034942627]\n",
      "[0.0, 0.0, 0.000537872314453125, 0.0009963512420654297, 0.0009958744049072266, 0.002540111541748047, 0.003983259201049805, 0.009448766708374023, 0.02072906494140625, 0.04872870445251465, 0.10118460655212402, 0.2074892520904541]\n"
     ]
    }
   ],
   "source": [
    "print(time_proposal5, time_classic, sep='\\n')"
   ]
  }
 ],
 "metadata": {
  "kernelspec": {
   "display_name": "Python 3",
   "language": "python",
   "name": "python3"
  },
  "language_info": {
   "codemirror_mode": {
    "name": "ipython",
    "version": 3
   },
   "file_extension": ".py",
   "mimetype": "text/x-python",
   "name": "python",
   "nbconvert_exporter": "python",
   "pygments_lexer": "ipython3",
   "version": "3.8.8"
  }
 },
 "nbformat": 4,
 "nbformat_minor": 5
}
